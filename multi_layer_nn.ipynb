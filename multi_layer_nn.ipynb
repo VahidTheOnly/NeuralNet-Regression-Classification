{
 "cells": [
  {
   "cell_type": "code",
   "execution_count": 1,
   "metadata": {},
   "outputs": [
    {
     "name": "stderr",
     "output_type": "stream",
     "text": [
      "2024-05-24 19:38:54.298159: I tensorflow/core/platform/cpu_feature_guard.cc:182] This TensorFlow binary is optimized to use available CPU instructions in performance-critical operations.\n",
      "To enable the following instructions: SSE4.1 SSE4.2 AVX AVX2 FMA, in other operations, rebuild TensorFlow with the appropriate compiler flags.\n"
     ]
    }
   ],
   "source": [
    "import numpy as np\n",
    "import pandas as pd\n",
    "import tensorflow as tf\n",
    "import matplotlib.pyplot as plt\n",
    "from sklearn.datasets import load_digits"
   ]
  },
  {
   "cell_type": "code",
   "execution_count": 2,
   "metadata": {},
   "outputs": [
    {
     "data": {
      "text/plain": [
       "dict_keys(['data', 'target', 'frame', 'feature_names', 'target_names', 'images', 'DESCR'])"
      ]
     },
     "execution_count": 2,
     "metadata": {},
     "output_type": "execute_result"
    }
   ],
   "source": [
    "digits = load_digits()\n",
    "digits.keys()"
   ]
  },
  {
   "cell_type": "code",
   "execution_count": 3,
   "metadata": {},
   "outputs": [
    {
     "name": "stdout",
     "output_type": "stream",
     "text": [
      "X.shape: (1797, 64)\n",
      "y.shape: (1797,)\n"
     ]
    }
   ],
   "source": [
    "X = digits['data']\n",
    "y = digits['target']\n",
    "print(f'X.shape: {X.shape}')\n",
    "print(f'y.shape: {y.shape}')"
   ]
  },
  {
   "cell_type": "code",
   "execution_count": 4,
   "metadata": {},
   "outputs": [
    {
     "data": {
      "text/plain": [
       "<matplotlib.image.AxesImage at 0x768304851410>"
      ]
     },
     "execution_count": 4,
     "metadata": {},
     "output_type": "execute_result"
    },
    {
     "data": {
      "image/png": "[encoded data removed]",
      "text/plain": [
       "<Figure size 640x480 with 1 Axes>"
      ]
     },
     "metadata": {},
     "output_type": "display_data"
    }
   ],
   "source": [
    "plt.imshow(X[1].reshape(8, 8))"
   ]
  },
  {
   "cell_type": "code",
   "execution_count": 5,
   "metadata": {},
   "outputs": [],
   "source": [
    "from sklearn.preprocessing import MinMaxScaler\n",
    "\n",
    "scaler = MinMaxScaler()\n",
    "X = scaler.fit_transform(X)"
   ]
  },
  {
   "cell_type": "code",
   "execution_count": 6,
   "metadata": {},
   "outputs": [],
   "source": [
    "from sklearn.model_selection import train_test_split\n",
    "\n",
    "X_train, X_test, y_train, y_test = train_test_split(X, y, test_size=0.33, random_state=42)"
   ]
  },
  {
   "cell_type": "code",
   "execution_count": 7,
   "metadata": {},
   "outputs": [
    {
     "name": "stdout",
     "output_type": "stream",
     "text": [
      "X_train.shape: (64, 1203)\n",
      "X_test.shape: (64, 594)\n",
      "y_train.shape: (10, 1203)\n",
      "y_test.shape: (594,)\n"
     ]
    }
   ],
   "source": [
    "X_train = X_train.T\n",
    "X_test = X_test.T\n",
    "y_train = tf.keras.utils.to_categorical(y_train).T\n",
    "print(f'X_train.shape: {X_train.shape}')\n",
    "print(f'X_test.shape: {X_test.shape}')\n",
    "print(f'y_train.shape: {y_train.shape}')\n",
    "print(f'y_test.shape: {y_test.shape}')"
   ]
  },
  {
   "cell_type": "code",
   "execution_count": 8,
   "metadata": {},
   "outputs": [],
   "source": [
    "def initialize_parameters(layer_dims):\n",
    "    params = {}\n",
    "    for i in range(1, len(layer_dims)):\n",
    "        params[f'W{i}'] = tf.Variable(tf.random.normal(shape=(layer_dims[i], layer_dims[i-1])) * tf.sqrt(2/layer_dims[i-1]))\n",
    "        params[f'b{i}'] = tf.Variable(tf.zeros(shape=(layer_dims[i], 1)))\n",
    "    \n",
    "    return params"
   ]
  },
  {
   "cell_type": "code",
   "execution_count": 9,
   "metadata": {},
   "outputs": [],
   "source": [
    "def forward_propagation(X, params):\n",
    "\n",
    "    l = len(params)//2\n",
    "    A = X\n",
    "    for i in range(1, l):\n",
    "        Z = params[f'W{i}'] @ A + params[f'b{i}']\n",
    "        A = tf.nn.relu(Z)\n",
    "\n",
    "    Z = params[f'W{l}'] @ A + params[f'b{l}']\n",
    "    A = tf.nn.softmax(Z)\n",
    "        \n",
    "    return A"
   ]
  },
  {
   "cell_type": "code",
   "execution_count": 10,
   "metadata": {},
   "outputs": [],
   "source": [
    "def compute_cost(y, y_hat):\n",
    "    loss = tf.keras.losses.categorical_crossentropy(y, y_hat)\n",
    "    return tf.reduce_mean(loss)"
   ]
  },
  {
   "cell_type": "code",
   "execution_count": 11,
   "metadata": {},
   "outputs": [],
   "source": [
    "def gradiant_descent(params, grads, learning_rate):\n",
    "    for i in params.keys():\n",
    "        params[i].assign_sub(learning_rate * grads[i])\n",
    "    return params"
   ]
  },
  {
   "cell_type": "code",
   "execution_count": 12,
   "metadata": {},
   "outputs": [],
   "source": [
    "def learning_rate_decay(learning_rate, epoch_num, decay_rate=1, time_interval=1000):\n",
    "    learning_rate /= 1 + decay_rate * epoch_num/time_interval\n",
    "    return learning_rate"
   ]
  },
  {
   "cell_type": "code",
   "execution_count": 13,
   "metadata": {},
   "outputs": [],
   "source": [
    "def nn_model(X, y, layer_dims, epochs, learning_rate, decay_rate=1, print_cost=False):\n",
    "    params = initialize_parameters(layer_dims)\n",
    "    for epoch in range(epochs):            \n",
    "        with tf.GradientTape() as tape:\n",
    "            y_hat = forward_propagation(X, params)\n",
    "            cost = compute_cost(y, y_hat)\n",
    "\n",
    "            if epoch % 100 == 0 and print_cost:\n",
    "                print(f'Epoch:{epoch}, Cost: {cost:0.2f}')\n",
    "        \n",
    "        grads = tape.gradient(cost, params)\n",
    "        decayed_learning_rate = learning_rate_decay(learning_rate, epoch, decay_rate)\n",
    "        params = gradiant_descent(params, grads, decayed_learning_rate)\n",
    "    return params"
   ]
  },
  {
   "cell_type": "code",
   "execution_count": 14,
   "metadata": {},
   "outputs": [
    {
     "name": "stderr",
     "output_type": "stream",
     "text": [
      "2024-05-24 19:38:58.913808: I tensorflow/core/common_runtime/process_util.cc:146] Creating new thread pool with default inter op setting: 2. Tune using inter_op_parallelism_threads for best performance.\n"
     ]
    },
    {
     "name": "stdout",
     "output_type": "stream",
     "text": [
      "Epoch:0, Cost: 846.06\n",
      "Epoch:100, Cost: 589.87\n",
      "Epoch:200, Cost: 581.85\n",
      "Epoch:300, Cost: 579.65\n",
      "Epoch:400, Cost: 577.83\n",
      "Epoch:500, Cost: 577.42\n",
      "Epoch:600, Cost: 577.20\n",
      "Epoch:700, Cost: 577.06\n",
      "Epoch:800, Cost: 576.90\n",
      "Epoch:900, Cost: 576.80\n",
      "Epoch:1000, Cost: 576.74\n",
      "Epoch:1100, Cost: 576.71\n",
      "Epoch:1200, Cost: 576.66\n",
      "Epoch:1300, Cost: 576.64\n",
      "Epoch:1400, Cost: 576.62\n",
      "Epoch:1500, Cost: 576.60\n",
      "Epoch:1600, Cost: 576.59\n",
      "Epoch:1700, Cost: 576.57\n",
      "Epoch:1800, Cost: 576.56\n",
      "Epoch:1900, Cost: 576.56\n",
      "Epoch:2000, Cost: 576.55\n",
      "Epoch:2100, Cost: 576.54\n",
      "Epoch:2200, Cost: 576.53\n",
      "Epoch:2300, Cost: 576.53\n",
      "Epoch:2400, Cost: 576.52\n"
     ]
    }
   ],
   "source": [
    "LEARNING_RATE = 0.02\n",
    "EPOCHS = 2500\n",
    "LAYER_DIMS = [\n",
    "    X_train.shape[0],       # input size\n",
    "    64,                     # hidden_layer_1\n",
    "    32,                     # hidden_layer_2\n",
    "    y_train.shape[0]        # output neurons\n",
    "]\n",
    "params = nn_model(X_train, y_train, LAYER_DIMS, EPOCHS, LEARNING_RATE, decay_rate=1.5, print_cost=True)"
   ]
  },
  {
   "cell_type": "code",
   "execution_count": 15,
   "metadata": {},
   "outputs": [],
   "source": [
    "def predict(X, params):\n",
    "    y_hat = forward_propagation(X, params)\n",
    "    y_pred = np.argmax(y_hat, axis=0)\n",
    "    \n",
    "    return y_pred"
   ]
  },
  {
   "cell_type": "code",
   "execution_count": 16,
   "metadata": {},
   "outputs": [
    {
     "name": "stdout",
     "output_type": "stream",
     "text": [
      "              precision    recall  f1-score   support\n",
      "\n",
      "           0       1.00      1.00      1.00        55\n",
      "           1       0.96      1.00      0.98        55\n",
      "           2       0.98      1.00      0.99        52\n",
      "           3       0.98      0.96      0.97        56\n",
      "           4       1.00      1.00      1.00        64\n",
      "           5       0.97      0.99      0.98        73\n",
      "           6       0.98      1.00      0.99        57\n",
      "           7       1.00      0.98      0.99        62\n",
      "           8       0.98      0.94      0.96        52\n",
      "           9       0.99      0.97      0.98        68\n",
      "\n",
      "    accuracy                           0.98       594\n",
      "   macro avg       0.98      0.98      0.98       594\n",
      "weighted avg       0.98      0.98      0.98       594\n",
      "\n"
     ]
    },
    {
     "data": {
      "text/plain": [
       "<sklearn.metrics._plot.confusion_matrix.ConfusionMatrixDisplay at 0x7683038e8fd0>"
      ]
     },
     "execution_count": 16,
     "metadata": {},
     "output_type": "execute_result"
    },
    {
     "data": {
      "image/png": "[encoded data removed]",
      "text/plain": [
       "<Figure size 640x480 with 2 Axes>"
      ]
     },
     "metadata": {},
     "output_type": "display_data"
    }
   ],
   "source": [
    "from sklearn.metrics import classification_report, accuracy_score, confusion_matrix, ConfusionMatrixDisplay\n",
    "\n",
    "y_pred = predict(X_test, params)\n",
    "print(classification_report(y_test, y_pred))\n",
    "ConfusionMatrixDisplay(confusion_matrix(y_test, y_pred)).plot()"
   ]
  },
  {
   "cell_type": "code",
   "execution_count": 17,
   "metadata": {},
   "outputs": [
    {
     "data": {
      "text/plain": [
       "1.0"
      ]
     },
     "execution_count": 17,
     "metadata": {},
     "output_type": "execute_result"
    }
   ],
   "source": [
    "y_pred_train = predict(X_train, params)\n",
    "accuracy_score(y_train.argmax(axis=0), y_pred_train)"
   ]
  },
  {
   "cell_type": "code",
   "execution_count": 18,
   "metadata": {},
   "outputs": [
    {
     "data": {
      "text/plain": [
       "0.9848484848484849"
      ]
     },
     "execution_count": 18,
     "metadata": {},
     "output_type": "execute_result"
    }
   ],
   "source": [
    "accuracy_score(y_test, y_pred)"
   ]
  },
  {
   "cell_type": "code",
   "execution_count": 19,
   "metadata": {},
   "outputs": [],
   "source": [
    "def find_closest_factors(number):\n",
    "    a = int(np.sqrt(number))\n",
    "    for i in range(a, 0, -1):\n",
    "        if number % i == 0:\n",
    "            return i, number // i"
   ]
  },
  {
   "cell_type": "code",
   "execution_count": 20,
   "metadata": {},
   "outputs": [
    {
     "name": "stdout",
     "output_type": "stream",
     "text": [
      "9 = 3 * 3\n"
     ]
    }
   ],
   "source": [
    "err = np.sum(y_test != y_pred)\n",
    "a, b = find_closest_factors(err)\n",
    "print(f'{err} = {a} * {b}')"
   ]
  },
  {
   "cell_type": "code",
   "execution_count": 21,
   "metadata": {},
   "outputs": [],
   "source": [
    "true_lable = y_test[y_test != y_pred]\n",
    "predicted_lable = y_pred[y_test != y_pred]"
   ]
  },
  {
   "cell_type": "code",
   "execution_count": 22,
   "metadata": {},
   "outputs": [
    {
     "data": {
      "image/png": "[encoded data removed]",
      "text/plain": [
       "<Figure size 825x900 with 9 Axes>"
      ]
     },
     "metadata": {},
     "output_type": "display_data"
    }
   ],
   "source": [
    "fig, axs = plt.subplots(a, b, figsize=(b*2.75, a*3))\n",
    "for i, ax in enumerate(axs.flat):\n",
    "    ax.imshow(X_test[:, y_test != y_pred][:, i].reshape(8, 8))\n",
    "    ax.set_title(f'true: {true_lable[i]}, predict: {predicted_lable[i]}')"
   ]
  }
 ],
 "metadata": {
  "kernelspec": {
   "display_name": "base",
   "language": "python",
   "name": "python3"
  },
  "language_info": {
   "codemirror_mode": {
    "name": "ipython",
    "version": 3
   },
   "file_extension": ".py",
   "mimetype": "text/x-python",
   "name": "python",
   "nbconvert_exporter": "python",
   "pygments_lexer": "ipython3",
   "version": "3.11.5"
  }
 },
 "nbformat": 4,
 "nbformat_minor": 2
}
