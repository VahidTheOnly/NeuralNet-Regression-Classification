{
 "cells": [
  {
   "cell_type": "code",
   "execution_count": 1,
   "metadata": {},
   "outputs": [
    {
     "name": "stderr",
     "output_type": "stream",
     "text": [
      "2024-05-25 19:47:12.359349: I tensorflow/core/platform/cpu_feature_guard.cc:182] This TensorFlow binary is optimized to use available CPU instructions in performance-critical operations.\n",
      "To enable the following instructions: SSE4.1 SSE4.2 AVX AVX2 FMA, in other operations, rebuild TensorFlow with the appropriate compiler flags.\n"
     ]
    }
   ],
   "source": [
    "# Import necessary libraries\n",
    "import numpy as np\n",
    "import pandas as pd\n",
    "import tensorflow as tf\n",
    "import matplotlib.pyplot as plt\n",
    "from sklearn.datasets import load_digits\n",
    "from sklearn.preprocessing import MinMaxScaler\n",
    "from sklearn.model_selection import train_test_split"
   ]
  },
  {
   "cell_type": "code",
   "execution_count": 2,
   "metadata": {},
   "outputs": [
    {
     "name": "stdout",
     "output_type": "stream",
     "text": [
      "X.shape: (1797, 64)\n",
      "y.shape: (1797,)\n"
     ]
    }
   ],
   "source": [
    "# Load the digits dataset\n",
    "digits = load_digits()\n",
    "\n",
    "# Extract features (X) and labels (y) from the dataset\n",
    "X = digits['data']\n",
    "y = digits['target']\n",
    "\n",
    "# Print the shape of X and y to verify their dimensions\n",
    "print(f'X.shape: {X.shape}')\n",
    "print(f'y.shape: {y.shape}')"
   ]
  },
  {
   "cell_type": "code",
   "execution_count": 3,
   "metadata": {},
   "outputs": [
    {
     "data": {
      "text/plain": [
       "<matplotlib.image.AxesImage at 0x7edf436cd350>"
      ]
     },
     "execution_count": 3,
     "metadata": {},
     "output_type": "execute_result"
    },
    {
     "data": {
      "image/png": "[encoded data removed]",
      "text/plain": [
       "<Figure size 640x480 with 1 Axes>"
      ]
     },
     "metadata": {},
     "output_type": "display_data"
    }
   ],
   "source": [
    "# Visualize a sample image from the dataset\n",
    "plt.imshow(X[1].reshape(8, 8))"
   ]
  },
  {
   "cell_type": "code",
   "execution_count": 4,
   "metadata": {},
   "outputs": [],
   "source": [
    "# Scale the features to the range [0, 1]\n",
    "scaler = MinMaxScaler()\n",
    "X = scaler.fit_transform(X)"
   ]
  },
  {
   "cell_type": "code",
   "execution_count": 5,
   "metadata": {},
   "outputs": [],
   "source": [
    "# Split the data into training and testing sets\n",
    "X_train, X_test, y_train, y_test = train_test_split(X, y, test_size=0.33, random_state=42)"
   ]
  },
  {
   "cell_type": "code",
   "execution_count": 6,
   "metadata": {},
   "outputs": [
    {
     "name": "stdout",
     "output_type": "stream",
     "text": [
      "X_train.shape: (64, 1203)\n",
      "X_test.shape: (64, 594)\n",
      "y_train.shape: (10, 1203)\n",
      "y_test.shape: (594,)\n"
     ]
    }
   ],
   "source": [
    "# Transpose the data to match the expected input shape for our model\n",
    "X_train = X_train.T\n",
    "X_test = X_test.T\n",
    "y_train = tf.keras.utils.to_categorical(y_train).T\n",
    "\n",
    "# Print the shapes of training and testing data to verify their dimensions\n",
    "print(f'X_train.shape: {X_train.shape}')\n",
    "print(f'X_test.shape: {X_test.shape}')\n",
    "print(f'y_train.shape: {y_train.shape}')\n",
    "print(f'y_test.shape: {y_test.shape}')"
   ]
  },
  {
   "cell_type": "code",
   "execution_count": 7,
   "metadata": {},
   "outputs": [],
   "source": [
    "def initialize_parameters(layer_dims):\n",
    "    \"\"\"\n",
    "    Initialize parameters for the neural network with multiple layers.\n",
    "    \n",
    "    Arguments:\n",
    "    layer_dims -- list containing the number of units in each layer\n",
    "    \n",
    "    Returns:\n",
    "    params -- dictionary containing initialized parameters\n",
    "    \"\"\"\n",
    "    params = {}\n",
    "    for i in range(1, len(layer_dims)):\n",
    "        params[f'W{i}'] = tf.Variable(tf.random.normal(shape=(layer_dims[i], layer_dims[i-1])) * tf.sqrt(2/layer_dims[i-1]))\n",
    "        params[f'b{i}'] = tf.Variable(tf.zeros(shape=(layer_dims[i], 1)))\n",
    "    \n",
    "    return params"
   ]
  },
  {
   "cell_type": "code",
   "execution_count": 8,
   "metadata": {},
   "outputs": [],
   "source": [
    "def forward_propagation(X, params):\n",
    "    \"\"\"\n",
    "    Perform forward propagation to predict the output.\n",
    "    \n",
    "    Arguments:\n",
    "    X -- input data of shape (n_x, m)\n",
    "    params -- dictionary containing initialized parameters\n",
    "    \n",
    "    Returns:\n",
    "    y_hat -- predicted output\n",
    "    \"\"\"\n",
    "    l = len(params) // 2\n",
    "    A = X\n",
    "    for i in range(1, l):\n",
    "        Z = params[f'W{i}'] @ A + params[f'b{i}']\n",
    "        A = tf.nn.relu(Z)\n",
    "    \n",
    "    Z = params[f'W{l}'] @ A + params[f'b{l}']\n",
    "    y_hat = tf.nn.softmax(Z)\n",
    "    \n",
    "    return y_hat"
   ]
  },
  {
   "cell_type": "code",
   "execution_count": 9,
   "metadata": {},
   "outputs": [],
   "source": [
    "def compute_cost(y, y_hat):\n",
    "    \"\"\"\n",
    "    Compute the cost using categorical cross-entropy.\n",
    "    \n",
    "    Arguments:\n",
    "    y -- true labels\n",
    "    y_hat -- predicted probabilities\n",
    "    \n",
    "    Returns:\n",
    "    cost -- categorical cross-entropy cost\n",
    "    \"\"\"\n",
    "    loss = tf.keras.losses.categorical_crossentropy(y, y_hat)\n",
    "    return tf.reduce_mean(loss)"
   ]
  },
  {
   "cell_type": "code",
   "execution_count": 10,
   "metadata": {},
   "outputs": [],
   "source": [
    "def gradient_descent(params, grads, learning_rate):\n",
    "    \"\"\"\n",
    "    Update parameters using gradient descent.\n",
    "    \n",
    "    Arguments:\n",
    "    params -- dictionary containing parameters\n",
    "    grads -- dictionary containing gradients of the cost with respect to parameters\n",
    "    learning_rate -- learning rate for gradient descent\n",
    "    \n",
    "    Returns:\n",
    "    params -- updated parameters\n",
    "    \"\"\"\n",
    "    for i in params.keys():\n",
    "        params[i].assign_sub(learning_rate * grads[i])\n",
    "    \n",
    "    return params"
   ]
  },
  {
   "cell_type": "code",
   "execution_count": 11,
   "metadata": {},
   "outputs": [],
   "source": [
    "def learning_rate_decay(learning_rate, epoch_num, decay_rate=1, time_interval=1000):\n",
    "    \"\"\"\n",
    "    Decay the learning rate over time.\n",
    "    \n",
    "    Arguments:\n",
    "    learning_rate -- initial learning rate\n",
    "    epoch_num -- current epoch number\n",
    "    decay_rate -- rate of decay\n",
    "    time_interval -- time interval for decay\n",
    "    \n",
    "    Returns:\n",
    "    updated_learning_rate -- decayed learning rate\n",
    "    \"\"\"\n",
    "    updated_learning_rate = learning_rate / (1 + decay_rate * epoch_num / time_interval)\n",
    "    return updated_learning_rate"
   ]
  },
  {
   "cell_type": "code",
   "execution_count": 12,
   "metadata": {},
   "outputs": [],
   "source": [
    "def nn_model(X, y, layer_dims, epochs, learning_rate, decay_rate=1, print_cost=False):\n",
    "    \"\"\"\n",
    "    Train the neural network model.\n",
    "    \n",
    "    Arguments:\n",
    "    X -- input data\n",
    "    y -- true labels\n",
    "    layer_dims -- list containing the number of units in each layer\n",
    "    epochs -- number of epochs to train the model\n",
    "    learning_rate -- initial learning rate\n",
    "    decay_rate -- rate of decay for learning rate\n",
    "    print_cost -- whether to print the cost during training\n",
    "    \n",
    "    Returns:\n",
    "    params -- trained parameters\n",
    "    \"\"\"\n",
    "    params = initialize_parameters(layer_dims)\n",
    "    for epoch in range(epochs):\n",
    "        with tf.GradientTape() as tape:\n",
    "            y_hat = forward_propagation(X, params)\n",
    "            cost = compute_cost(y, y_hat)\n",
    "            \n",
    "            if print_cost and epoch % 100 == 0:\n",
    "                print(f'Epoch:{epoch}, Cost: {cost:0.2f}')\n",
    "        \n",
    "        grads = tape.gradient(cost, params)\n",
    "        decayed_learning_rate = learning_rate_decay(learning_rate, epoch, decay_rate)\n",
    "        params = gradient_descent(params, grads, decayed_learning_rate)\n",
    "    \n",
    "    return params"
   ]
  },
  {
   "cell_type": "code",
   "execution_count": 13,
   "metadata": {},
   "outputs": [
    {
     "name": "stderr",
     "output_type": "stream",
     "text": [
      "2024-05-25 19:47:16.716309: I tensorflow/core/common_runtime/process_util.cc:146] Creating new thread pool with default inter op setting: 2. Tune using inter_op_parallelism_threads for best performance.\n"
     ]
    },
    {
     "name": "stdout",
     "output_type": "stream",
     "text": [
      "Epoch:0, Cost: 852.57\n",
      "Epoch:100, Cost: 594.17\n",
      "Epoch:200, Cost: 582.57\n",
      "Epoch:300, Cost: 579.22\n",
      "Epoch:400, Cost: 577.88\n",
      "Epoch:500, Cost: 577.47\n",
      "Epoch:600, Cost: 577.19\n",
      "Epoch:700, Cost: 577.00\n",
      "Epoch:800, Cost: 576.89\n",
      "Epoch:900, Cost: 576.83\n"
     ]
    }
   ],
   "source": [
    "# Set hyperparameters\n",
    "LEARNING_RATE = 0.025\n",
    "EPOCHS = 1000\n",
    "LAYER_DIMS = [X_train.shape[0], 64, 32, y_train.shape[0]]  # Number of units in each layer\n",
    "\n",
    "# Train the model and get the final parameters\n",
    "params = nn_model(X_train, y_train, LAYER_DIMS, EPOCHS, LEARNING_RATE, decay_rate=2, print_cost=True)"
   ]
  },
  {
   "cell_type": "code",
   "execution_count": 14,
   "metadata": {},
   "outputs": [],
   "source": [
    "def predict(X, params):\n",
    "    \"\"\"\n",
    "    Make predictions using the trained model.\n",
    "    \n",
    "    Arguments:\n",
    "    X -- input data\n",
    "    params -- trained parameters\n",
    "    \n",
    "    Returns:\n",
    "    predictions -- array of predictions\n",
    "    \"\"\"\n",
    "    y_hat = forward_propagation(X, params)\n",
    "    predictions = np.argmax(y_hat, axis=0)\n",
    "    \n",
    "    return predictions"
   ]
  },
  {
   "cell_type": "code",
   "execution_count": 15,
   "metadata": {},
   "outputs": [],
   "source": [
    "# Make predictions using the trained model\n",
    "y_pred = predict(X_test, params)"
   ]
  },
  {
   "cell_type": "code",
   "execution_count": 16,
   "metadata": {},
   "outputs": [
    {
     "name": "stdout",
     "output_type": "stream",
     "text": [
      "              precision    recall  f1-score   support\n",
      "\n",
      "           0       1.00      1.00      1.00        55\n",
      "           1       0.98      1.00      0.99        55\n",
      "           2       1.00      1.00      1.00        52\n",
      "           3       0.98      0.98      0.98        56\n",
      "           4       1.00      1.00      1.00        64\n",
      "           5       0.99      0.97      0.98        73\n",
      "           6       0.98      1.00      0.99        57\n",
      "           7       0.98      0.98      0.98        62\n",
      "           8       1.00      0.98      0.99        52\n",
      "           9       0.99      0.99      0.99        68\n",
      "\n",
      "    accuracy                           0.99       594\n",
      "   macro avg       0.99      0.99      0.99       594\n",
      "weighted avg       0.99      0.99      0.99       594\n",
      "\n"
     ]
    },
    {
     "data": {
      "text/plain": [
       "<sklearn.metrics._plot.confusion_matrix.ConfusionMatrixDisplay at 0x7edf42297e90>"
      ]
     },
     "execution_count": 16,
     "metadata": {},
     "output_type": "execute_result"
    },
    {
     "data": {
      "image/png": "[encoded data removed]",
      "text/plain": [
       "<Figure size 640x480 with 2 Axes>"
      ]
     },
     "metadata": {},
     "output_type": "display_data"
    }
   ],
   "source": [
    "from sklearn.metrics import accuracy_score, classification_report, confusion_matrix, ConfusionMatrixDisplay\n",
    "\n",
    "# Evaluate the model using classification report and confusion matrix\n",
    "print(classification_report(y_test, y_pred))\n",
    "ConfusionMatrixDisplay(confusion_matrix(y_test, y_pred)).plot()"
   ]
  },
  {
   "cell_type": "code",
   "execution_count": 17,
   "metadata": {},
   "outputs": [
    {
     "name": "stdout",
     "output_type": "stream",
     "text": [
      "Training Accuracy: 1.0\n"
     ]
    }
   ],
   "source": [
    "# Make predictions using the trained model\n",
    "y_pred_train = predict(X_train, params)\n",
    "\n",
    "# Calculate and print the accuracy score on the training set\n",
    "accuracy_train = np.mean(y_pred_train == y_train.argmax(axis=0))\n",
    "print(f'Training Accuracy: {accuracy_train}')"
   ]
  },
  {
   "cell_type": "code",
   "execution_count": 18,
   "metadata": {},
   "outputs": [
    {
     "name": "stdout",
     "output_type": "stream",
     "text": [
      "Test Accuracy: 0.98989898989899\n"
     ]
    }
   ],
   "source": [
    "# Calculate and print the accuracy score on the test set\n",
    "accuracy_test = np.mean(y_pred == y_test)\n",
    "print(f'Test Accuracy: {accuracy_test}')"
   ]
  },
  {
   "cell_type": "code",
   "execution_count": 19,
   "metadata": {},
   "outputs": [],
   "source": [
    "def find_closest_factors(number):\n",
    "    \"\"\"\n",
    "    Find the closest factors of a number.\n",
    "    \n",
    "    Arguments:\n",
    "    number -- input number\n",
    "    \n",
    "    Returns:\n",
    "    a -- one factor\n",
    "    b -- another factor\n",
    "    \"\"\"\n",
    "    a = int(np.sqrt(number))\n",
    "    for i in range(a, 0, -1):\n",
    "        if number % i == 0:\n",
    "            return i, number // i"
   ]
  },
  {
   "cell_type": "code",
   "execution_count": 20,
   "metadata": {},
   "outputs": [
    {
     "name": "stdout",
     "output_type": "stream",
     "text": [
      "Number of Misclassifications: 6 = 2 * 3\n"
     ]
    }
   ],
   "source": [
    "# Calculate the number of misclassifications\n",
    "errors = np.sum(y_test != y_pred)\n",
    "\n",
    "# Find and print the closest factors of the number of misclassifications\n",
    "a, b = find_closest_factors(errors)\n",
    "print(f'Number of Misclassifications: {errors} = {a} * {b}')"
   ]
  },
  {
   "cell_type": "code",
   "execution_count": 21,
   "metadata": {},
   "outputs": [
    {
     "data": {
      "image/png": "[encoded data removed]",
      "text/plain": [
       "<Figure size 825x600 with 6 Axes>"
      ]
     },
     "metadata": {},
     "output_type": "display_data"
    }
   ],
   "source": [
    "# Visualize some of the misclassified digits\n",
    "# Plot a grid of images of misclassified digits along with their true and predicted labels\n",
    "misclassified_indices = np.where(y_test != y_pred)[0]\n",
    "num_misclassified = len(misclassified_indices)\n",
    "\n",
    "# Create subplots for each misclassified digit\n",
    "fig, axs = plt.subplots(a, b, figsize=(b*2.75, a*3))\n",
    "for i, ax in enumerate(axs.flat):\n",
    "    ax.imshow(X_test[:, misclassified_indices[i]].reshape(8, 8))\n",
    "    ax.set_title(f'True: {y_test[misclassified_indices[i]]}, Predicted: {y_pred[misclassified_indices[i]]}')\n",
    "\n",
    "# Show the plot\n",
    "plt.tight_layout()\n",
    "plt.show()"
   ]
  }
 ],
 "metadata": {
  "kernelspec": {
   "display_name": "base",
   "language": "python",
   "name": "python3"
  },
  "language_info": {
   "codemirror_mode": {
    "name": "ipython",
    "version": 3
   },
   "file_extension": ".py",
   "mimetype": "text/x-python",
   "name": "python",
   "nbconvert_exporter": "python",
   "pygments_lexer": "ipython3",
   "version": "3.11.5"
  }
 },
 "nbformat": 4,
 "nbformat_minor": 2
}
