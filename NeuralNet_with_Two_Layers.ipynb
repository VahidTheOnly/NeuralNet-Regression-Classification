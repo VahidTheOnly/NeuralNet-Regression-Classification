{
 "cells": [
  {
   "cell_type": "code",
   "execution_count": 1,
   "metadata": {},
   "outputs": [
    {
     "name": "stderr",
     "output_type": "stream",
     "text": [
      "2024-05-09 13:44:59.084555: I tensorflow/core/platform/cpu_feature_guard.cc:182] This TensorFlow binary is optimized to use available CPU instructions in performance-critical operations.\n",
      "To enable the following instructions: SSE4.1 SSE4.2 AVX AVX2 FMA, in other operations, rebuild TensorFlow with the appropriate compiler flags.\n"
     ]
    }
   ],
   "source": [
    "import numpy as np\n",
    "import matplotlib.pyplot as plt\n",
    "import tensorflow as tf\n",
    "import seaborn as sns\n",
    "import pandas as pd\n",
    "from sklearn.datasets import make_blobs\n",
    "from sklearn.model_selection import train_test_split"
   ]
  },
  {
   "cell_type": "code",
   "execution_count": 2,
   "metadata": {},
   "outputs": [],
   "source": [
    "# m = 2000\n",
    "# X, y = make_blobs(m, centers=([2.5, 3], [6.5, 8], [2, 8], [7.5, 3]), random_state=0)\n",
    "# y[(y == 0) | (y == 1)] = 1\n",
    "# y[(y == 2) | (y == 3)] = 0\n",
    "\n",
    "# y = np.reshape(y, (-1, 1))\n",
    "\n",
    "# plt.scatter(X[:, 0], X[:, 1], c=y, edgecolors='white', cmap='Dark2', linewidths=0.2);\n",
    "\n",
    "# print ('The shape of X is: ' + str(X.shape))\n",
    "# print ('The shape of Y is: ' + str(y.shape))"
   ]
  },
  {
   "cell_type": "code",
   "execution_count": 3,
   "metadata": {},
   "outputs": [],
   "source": [
    "# X = pd.DataFrame(X)"
   ]
  },
  {
   "cell_type": "code",
   "execution_count": 4,
   "metadata": {},
   "outputs": [],
   "source": [
    "df = pd.read_csv('house_prices_train.csv', index_col='Id', na_filter=True)"
   ]
  },
  {
   "cell_type": "code",
   "execution_count": 5,
   "metadata": {},
   "outputs": [
    {
     "data": {
      "text/plain": [
       "ExterQual_TA        -0.589044\n",
       "KitchenQual_TA      -0.519298\n",
       "BsmtQual_TA         -0.452394\n",
       "GarageFinish_Unf    -0.410608\n",
       "GarageType_Detchd   -0.354141\n",
       "                       ...   \n",
       "GarageArea           0.623431\n",
       "GarageCars           0.640409\n",
       "GrLivArea            0.708624\n",
       "OverallQual          0.790982\n",
       "SalePrice            1.000000\n",
       "Length: 245, dtype: float64"
      ]
     },
     "execution_count": 5,
     "metadata": {},
     "output_type": "execute_result"
    }
   ],
   "source": [
    "df = pd.get_dummies(df, drop_first=True)\n",
    "df.corrwith(df['SalePrice']).sort_values()"
   ]
  },
  {
   "cell_type": "code",
   "execution_count": 6,
   "metadata": {},
   "outputs": [],
   "source": [
    "X = df[['OverallQual', 'GrLivArea']]\n",
    "y = df['SalePrice']\n",
    "\n",
    "X_train, X_test, y_train, y_test = train_test_split(X, y, test_size=0.33, random_state=42)\n",
    "\n",
    "X_train_norm = (X_train - X.mean()) / X.std()\n",
    "X_test_norm = (X_test - X.mean()) / X.std()\n",
    "y_train_norm = (y_train - y.mean()) / y.std()\n",
    "\n",
    "y_train_norm = np.reshape(y_train_norm, (-1, 1))\n",
    "y_test = np.reshape(y_test, (-1, 1))"
   ]
  },
  {
   "cell_type": "code",
   "execution_count": 7,
   "metadata": {},
   "outputs": [],
   "source": [
    "def initialize_parameters(n_x, n_h, n_y):\n",
    "    \n",
    "    W1 = tf.Variable(tf.random.normal((n_x, n_h)), name='W1')\n",
    "    b1 = tf.Variable(tf.random.normal((1, n_h)), name='b1')\n",
    "    W2 = tf.Variable(tf.random.normal((n_h, n_y)), name='W2')\n",
    "    b2 = tf.Variable(tf.random.normal((1, n_y)), name='b2')\n",
    "\n",
    "    return W1, b1, W2, b2"
   ]
  },
  {
   "cell_type": "code",
   "execution_count": 8,
   "metadata": {},
   "outputs": [],
   "source": [
    "# def sigmoid(z):\n",
    "#     return 1/(1+tf.exp(-z))"
   ]
  },
  {
   "cell_type": "code",
   "execution_count": 9,
   "metadata": {},
   "outputs": [],
   "source": [
    "# def forward_propagation(X, W1, b1, W2, b2):\n",
    "#     Z1 = X.to_numpy() @ W1 + b1\n",
    "#     A1 = sigmoid(Z1) \n",
    "#     Z2 = A1 @ W2 + b2\n",
    "#     y_hat = sigmoid(Z2)\n",
    "#     return y_hat "
   ]
  },
  {
   "cell_type": "code",
   "execution_count": 10,
   "metadata": {},
   "outputs": [],
   "source": [
    "def forward_propagation(X, W1, b1, W2, b2):\n",
    "    Z1 = X.to_numpy() @ W1 + b1\n",
    "    # A1 = sigmoid(Z1) \n",
    "    y_hat = Z1 @ W2 + b2\n",
    "    # y_hat = sigmoid(Z2)\n",
    "    return y_hat "
   ]
  },
  {
   "cell_type": "code",
   "execution_count": 11,
   "metadata": {},
   "outputs": [],
   "source": [
    "# def compute_cost(y, y_hat):\n",
    "#     m = y.shape[0]\n",
    "#     logloss = - np.multiply(np.log(y_hat), y) - np.multiply(np.log(1 - y_hat), 1 - y)\n",
    "#     cost = 1/m * tf.reduce_sum(logloss)\n",
    "#     return cost"
   ]
  },
  {
   "cell_type": "code",
   "execution_count": 12,
   "metadata": {},
   "outputs": [],
   "source": [
    "def compute_cost(y, y_hat):\n",
    "    m = y.shape[0]\n",
    "    cost = tf.reduce_sum((y - y_hat) ** 2) / (2 * m)\n",
    "    return cost"
   ]
  },
  {
   "cell_type": "code",
   "execution_count": 13,
   "metadata": {},
   "outputs": [],
   "source": [
    "def gradiant_descent(W1, b1, W2, b2, dW1, db1, dW2, db2, learning_rate):\n",
    "\n",
    "    W1.assign_sub(learning_rate * dW1)\n",
    "    b1.assign_sub(learning_rate * db1)\n",
    "    W2.assign_sub(learning_rate * dW2)\n",
    "    b2.assign_sub(learning_rate * db2)\n",
    "\n",
    "    return W1, b1, W2, b2\n"
   ]
  },
  {
   "cell_type": "code",
   "execution_count": 14,
   "metadata": {},
   "outputs": [],
   "source": [
    "def nn_model(X, y, n_x, n_h, n_y, epochs, learning_rate):\n",
    "    W1, b1, W2, b2 = initialize_parameters(n_x, n_h, n_y)\n",
    "    for epoch in range(epochs):\n",
    "        with tf.GradientTape() as tape:\n",
    "            y_hat = forward_propagation(X, W1, b1, W2, b2)\n",
    "            cost = compute_cost(y, y_hat)\n",
    "            \n",
    "            if epoch % 10 == 0:\n",
    "                print(f'Epoch:{epoch}, Cost: {cost}')\n",
    "        \n",
    "        # Backward Propagation\n",
    "        dW1, db1, dW2, db2 = tape.gradient(cost, [W1, b1, W2, b2])\n",
    "        \n",
    "        W1, b1, W2, b2 = gradiant_descent(W1, b1, W2, b2, dW1, db1, dW2, db2, learning_rate)\n",
    "\n",
    "    return W1.numpy(), b1.numpy(), W2.numpy(), b2.numpy()"
   ]
  },
  {
   "cell_type": "code",
   "execution_count": 15,
   "metadata": {},
   "outputs": [
    {
     "name": "stderr",
     "output_type": "stream",
     "text": [
      "2024-05-09 13:45:03.170343: I tensorflow/core/common_runtime/process_util.cc:146] Creating new thread pool with default inter op setting: 2. Tune using inter_op_parallelism_threads for best performance.\n"
     ]
    },
    {
     "name": "stdout",
     "output_type": "stream",
     "text": [
      "Epoch:0, Cost: 4.224335670471191\n",
      "Epoch:10, Cost: 0.1986522525548935\n",
      "Epoch:20, Cost: 0.14519010484218597\n",
      "Epoch:30, Cost: 0.14151735603809357\n",
      "Epoch:40, Cost: 0.14126431941986084\n",
      "Epoch:50, Cost: 0.14124691486358643\n",
      "Epoch:60, Cost: 0.1412457376718521\n",
      "Epoch:70, Cost: 0.14124564826488495\n",
      "Epoch:80, Cost: 0.14124566316604614\n",
      "Epoch:90, Cost: 0.14124564826488495\n",
      "Epoch:100, Cost: 0.14124564826488495\n",
      "Epoch:110, Cost: 0.14124563336372375\n",
      "Epoch:120, Cost: 0.14124563336372375\n",
      "Epoch:130, Cost: 0.14124563336372375\n",
      "Epoch:140, Cost: 0.14124563336372375\n",
      "Epoch:150, Cost: 0.14124563336372375\n",
      "Epoch:160, Cost: 0.14124563336372375\n",
      "Epoch:170, Cost: 0.14124563336372375\n",
      "Epoch:180, Cost: 0.14124563336372375\n",
      "Epoch:190, Cost: 0.14124563336372375\n"
     ]
    }
   ],
   "source": [
    "LEARNING_RATE = 0.05\n",
    "EPOCHS = 200\n",
    "n_x = X.shape[1]    # number of inputs\n",
    "n_h = 2             # number of perceptrons in hidden layer\n",
    "n_y = 1    # number of perceptrons in output layer\n",
    "\n",
    "W1, b1, W2, b2 = nn_model(X_train_norm, y_train_norm, n_x, n_h, n_y, EPOCHS, LEARNING_RATE)"
   ]
  }
 ],
 "metadata": {
  "kernelspec": {
   "display_name": "base",
   "language": "python",
   "name": "python3"
  },
  "language_info": {
   "codemirror_mode": {
    "name": "ipython",
    "version": 3
   },
   "file_extension": ".py",
   "mimetype": "text/x-python",
   "name": "python",
   "nbconvert_exporter": "python",
   "pygments_lexer": "ipython3",
   "version": "3.11.5"
  }
 },
 "nbformat": 4,
 "nbformat_minor": 2
}
